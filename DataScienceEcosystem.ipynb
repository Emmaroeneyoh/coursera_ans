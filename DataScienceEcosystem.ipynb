{
 "cells": [
  {
   "cell_type": "markdown",
   "id": "ceb86465-3d8e-45b8-9dd5-cd248c491847",
   "metadata": {},
   "source": [
    "   <span style=\"font-size:24px;\">Data Science Tools and Ecosystem</span>"
   ]
  },
  {
   "cell_type": "markdown",
   "id": "d75a0f73-8d1d-41a9-9ffe-28e190b0cfeb",
   "metadata": {},
   "source": [
    "Objectives:\n",
    ". Some of the popular languages that Data Scientists use\n",
    ". Some of the commonly used libraries used by Data Scientists"
   ]
  },
  {
   "cell_type": "markdown",
   "id": "ca1382b6-0ef9-471e-9cc0-86b92adb7f0a",
   "metadata": {},
   "source": [
    "In this notebook, Data Science Tools and Ecosystem are summarized."
   ]
  },
  {
   "cell_type": "markdown",
   "id": "9cc5e001-ecdd-44c2-b05a-7e898b9f65c8",
   "metadata": {},
   "source": [
    "Some of the popular languages that Data Scientists use are:\n",
    "1. python\n",
    "2. R\n",
    "3. javscript"
   ]
  },
  {
   "cell_type": "markdown",
   "id": "ca3ff786-0a9a-46de-a2fb-4755da4f6e10",
   "metadata": {},
   "source": [
    "Some of the commonly used libraries used by Data Scientists include:\n",
    "1. numpy\n",
    "2. pandas\n",
    "3. matplotlib\n",
    "4. scikit learn"
   ]
  },
  {
   "cell_type": "markdown",
   "id": "0efaa033-2e3f-4aee-a094-2e7fcbff0995",
   "metadata": {},
   "source": [
    "Below are a few examples of evaluating arithmetic expressions in Python"
   ]
  },
  {
   "cell_type": "code",
   "execution_count": 1,
   "id": "8f150703-f513-48da-8ae2-d7ddc7270f51",
   "metadata": {
    "tags": []
   },
   "outputs": [
    {
     "data": {
      "text/plain": [
       "17"
      ]
     },
     "execution_count": 1,
     "metadata": {},
     "output_type": "execute_result"
    }
   ],
   "source": [
    "# This a simple arithmetic expression to mutiply then add integers\n",
    "(3*4)+5"
   ]
  },
  {
   "cell_type": "code",
   "execution_count": 2,
   "id": "dde938f5-1bae-4114-99b4-cd2456a792db",
   "metadata": {
    "tags": []
   },
   "outputs": [
    {
     "name": "stdout",
     "output_type": "stream",
     "text": [
      "200 minutes is equal to 3.3333333333333335 hours\n"
     ]
    }
   ],
   "source": [
    "# This will convert 200 minutes to hours by diving by 60\n",
    "# Number of minutes\n",
    "minutes = 200\n",
    "\n",
    "# Convert minutes to hours\n",
    "hours = minutes / 60\n",
    "\n",
    "print(\"200 minutes is equal to\", hours, \"hours\")\n"
   ]
  },
  {
   "cell_type": "markdown",
   "id": "477bb0ce-03ee-418c-bad7-2bd5ae3e2950",
   "metadata": {},
   "source": [
    "Author .\n",
    "emmanuel eneyoh"
   ]
  }
 ],
 "metadata": {
  "kernelspec": {
   "display_name": "Python",
   "language": "python",
   "name": "conda-env-python-py"
  },
  "language_info": {
   "codemirror_mode": {
    "name": "ipython",
    "version": 3
   },
   "file_extension": ".py",
   "mimetype": "text/x-python",
   "name": "python",
   "nbconvert_exporter": "python",
   "pygments_lexer": "ipython3",
   "version": "3.7.12"
  }
 },
 "nbformat": 4,
 "nbformat_minor": 5
}
